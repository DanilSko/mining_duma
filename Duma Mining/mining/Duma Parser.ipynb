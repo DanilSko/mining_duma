{
 "cells": [
  {
   "cell_type": "code",
   "execution_count": 20,
   "metadata": {},
   "outputs": [],
   "source": [
    "test_html = 'output/1444.html' \n",
    "with open(test_html, \"r\") as f:\n",
    "    test_html_contents = f.read()"
   ]
  },
  {
   "cell_type": "code",
   "execution_count": 21,
   "metadata": {},
   "outputs": [],
   "source": [
    "soup = BeautifulSoup(test_html_contents, 'html.parser')"
   ]
  },
  {
   "cell_type": "code",
   "execution_count": 22,
   "metadata": {},
   "outputs": [
    {
     "data": {
      "text/plain": [
       "str"
      ]
     },
     "execution_count": 22,
     "metadata": {},
     "output_type": "execute_result"
    }
   ],
   "source": [
    "title = soup.title.text\n",
    "type (title)"
   ]
  },
  {
   "cell_type": "code",
   "execution_count": 29,
   "metadata": {},
   "outputs": [
    {
     "name": "stdout",
     "output_type": "stream",
     "text": [
      "18 июня 2003\n",
      "\n",
      "Здание Государственной Думы. Большой зал. 18 июня 2003 года. 10 часов. Председательствует Первый заместитель Председателя Государственной Думы Л. К. \n"
     ]
    }
   ],
   "source": [
    "html_filterer (test_html_contents)"
   ]
  },
  {
   "cell_type": "markdown",
   "metadata": {},
   "source": [
    "## Боевая часть"
   ]
  },
  {
   "cell_type": "code",
   "execution_count": 53,
   "metadata": {},
   "outputs": [],
   "source": [
    "import re\n",
    "from bs4 import BeautifulSoup\n",
    "from os import walk\n",
    "from os.path import join as pathjoin\n",
    "#from pymystem3 import Mystem\n",
    "#import dateparser\n",
    "#m = Mystem()"
   ]
  },
  {
   "cell_type": "code",
   "execution_count": 54,
   "metadata": {},
   "outputs": [],
   "source": [
    "def write_to_txt (tr_date, transcript_text, filename,folder_for_txt):\n",
    "    newname = re.sub ('\\.html', '.txt', filename)\n",
    "    with open(pathjoin(folder_for_txt, newname), \"w\") as outfile:\n",
    "        outfile.write (tr_date + '\\n\\n' + transcript_text)"
   ]
  },
  {
   "cell_type": "code",
   "execution_count": 55,
   "metadata": {},
   "outputs": [],
   "source": [
    "def get_date(title_text):\n",
    "    #lemmatized = m.lemmatize().join()\n",
    "    parsed_date = re.search ('(\\d\\d?)\\s+([А-ЯЁа-яё]+)\\s+(19|2[012])\\d{2}', title_text)\n",
    "    return parsed_date.group(0) # заглушка "
   ]
  },
  {
   "cell_type": "code",
   "execution_count": 56,
   "metadata": {},
   "outputs": [],
   "source": [
    "def html_parser (some_soup, title_text):\n",
    "    date = get_date (title_text)\n",
    "    #print (date)\n",
    "    transcript_text = some_soup.find(id=\"selectable-content\").text\n",
    "    #print (transcript_text.text[:150])\n",
    "    return date, transcript_text"
   ]
  },
  {
   "cell_type": "code",
   "execution_count": 57,
   "metadata": {},
   "outputs": [],
   "source": [
    "def open_file (path, filename):\n",
    "    with open(pathjoin(path, filename), \"r\") as f:\n",
    "        html_as_string = f.read()\n",
    "        return html_as_string"
   ]
  },
  {
   "cell_type": "code",
   "execution_count": 58,
   "metadata": {},
   "outputs": [],
   "source": [
    "def html_to_txt (path, filename, folder_for_txt):\n",
    "    html_as_string = open_file (path, filename)\n",
    "    soup = BeautifulSoup(html_as_string, 'html.parser')\n",
    "    title_text = soup.title.text\n",
    "    if re.search ('[Сс]тенограмма', title_text) != None:\n",
    "        tr_date, transcript_text = html_parser (soup, title_text)\n",
    "        write_to_txt (tr_date, transcript_text, filename,folder_for_txt)"
   ]
  },
  {
   "cell_type": "code",
   "execution_count": 59,
   "metadata": {},
   "outputs": [],
   "source": [
    "folder_with_htmls = 'output'\n",
    "folder_for_txt = 'txt_output'"
   ]
  },
  {
   "cell_type": "code",
   "execution_count": 60,
   "metadata": {},
   "outputs": [],
   "source": [
    "for path, dirs, filenames in walk (folder_with_htmls):\n",
    "    for filename in filenames:\n",
    "        if 'html' in filename:\n",
    "            html_to_txt (path, filename, folder_for_txt)"
   ]
  },
  {
   "cell_type": "code",
   "execution_count": null,
   "metadata": {},
   "outputs": [],
   "source": []
  }
 ],
 "metadata": {
  "kernelspec": {
   "display_name": "Python 3",
   "language": "python",
   "name": "python3"
  },
  "language_info": {
   "codemirror_mode": {
    "name": "ipython",
    "version": 3
   },
   "file_extension": ".py",
   "mimetype": "text/x-python",
   "name": "python",
   "nbconvert_exporter": "python",
   "pygments_lexer": "ipython3",
   "version": "3.6.5"
  }
 },
 "nbformat": 4,
 "nbformat_minor": 2
}

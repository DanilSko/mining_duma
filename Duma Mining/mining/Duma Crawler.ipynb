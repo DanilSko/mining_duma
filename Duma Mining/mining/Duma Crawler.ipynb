{
 "cells": [
  {
   "cell_type": "code",
   "execution_count": 30,
   "metadata": {},
   "outputs": [],
   "source": [
    "import re\n",
    "import requests\n",
    "import time\n",
    "import random"
   ]
  },
  {
   "cell_type": "markdown",
   "metadata": {},
   "source": [
    "## Тестовая часть\n"
   ]
  },
  {
   "cell_type": "code",
   "execution_count": 40,
   "metadata": {},
   "outputs": [
    {
     "data": {
      "text/plain": [
       "200"
      ]
     },
     "execution_count": 40,
     "metadata": {},
     "output_type": "execute_result"
    }
   ],
   "source": [
    "# тест: 1 транскрипт\n",
    "response_transcript = requests.get (\"http://transcript.duma.gov.ru/node/5401/\")\n",
    "response_transcript.status_code"
   ]
  },
  {
   "cell_type": "code",
   "execution_count": 19,
   "metadata": {},
   "outputs": [
    {
     "data": {
      "text/plain": [
       "404"
      ]
     },
     "execution_count": 19,
     "metadata": {},
     "output_type": "execute_result"
    }
   ],
   "source": [
    "# тест: несуществующая страница\n",
    "response_transcript = requests.get (\"http://transcript.duma.gov.ru/node/9999/\")\n",
    "response_transcript.status_code"
   ]
  },
  {
   "cell_type": "code",
   "execution_count": 16,
   "metadata": {},
   "outputs": [],
   "source": [
    "filename = 'output/test_output2.html'"
   ]
  },
  {
   "cell_type": "code",
   "execution_count": 17,
   "metadata": {},
   "outputs": [],
   "source": [
    "with open(filename,mode = 'wb') as localfile:\n",
    "    localfile.write(response_transcript.content)"
   ]
  },
  {
   "cell_type": "markdown",
   "metadata": {},
   "source": [
    "## Боевая часть"
   ]
  },
  {
   "cell_type": "code",
   "execution_count": 5,
   "metadata": {},
   "outputs": [],
   "source": [
    "path  = 'http://transcript.duma.gov.ru/node/{}/'"
   ]
  },
  {
   "cell_type": "code",
   "execution_count": 50,
   "metadata": {},
   "outputs": [],
   "source": [
    "def to_non_existent (address):\n",
    "    with open('non_existent_scripts_list.txt','a') as nonex:\n",
    "            nonex.write(address)"
   ]
  },
  {
   "cell_type": "code",
   "execution_count": 51,
   "metadata": {},
   "outputs": [],
   "source": [
    "def write_to_file (numbstring, address):\n",
    "    filepath = 'output/{}.html'.format(numbstring)\n",
    "    response_transcript = requests.get (address)\n",
    "    if response_transcript.status_code == 200:\n",
    "        with open(filepath,mode = 'wb') as localfile:\n",
    "            localfile.write(response_transcript.content)\n",
    "    else:\n",
    "        to_non_existent (numbstring + '\\n')"
   ]
  },
  {
   "cell_type": "code",
   "execution_count": 53,
   "metadata": {},
   "outputs": [],
   "source": [
    "for number in range (35,5402): # 35,5402\n",
    "    numbstring = str(number)\n",
    "    address = path.format (numbstring)\n",
    "    randsleep = random.randint(3,9)/10\n",
    "    time.sleep (randsleep)\n",
    "    write_to_file (numbstring, address)"
   ]
  },
  {
   "cell_type": "code",
   "execution_count": null,
   "metadata": {},
   "outputs": [],
   "source": []
  }
 ],
 "metadata": {
  "kernelspec": {
   "display_name": "Python 3",
   "language": "python",
   "name": "python3"
  },
  "language_info": {
   "codemirror_mode": {
    "name": "ipython",
    "version": 3
   },
   "file_extension": ".py",
   "mimetype": "text/x-python",
   "name": "python",
   "nbconvert_exporter": "python",
   "pygments_lexer": "ipython3",
   "version": "3.6.5"
  }
 },
 "nbformat": 4,
 "nbformat_minor": 2
}

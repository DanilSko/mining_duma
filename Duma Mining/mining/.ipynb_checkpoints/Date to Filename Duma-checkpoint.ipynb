{
 "cells": [
  {
   "cell_type": "code",
   "execution_count": 31,
   "metadata": {},
   "outputs": [],
   "source": [
    "import re\n",
    "import dateparser\n",
    "from os import walk\n",
    "from os.path import join as joinpath"
   ]
  },
  {
   "cell_type": "code",
   "execution_count": 32,
   "metadata": {},
   "outputs": [],
   "source": [
    "def get_date (file_kak_stroka):\n",
    "    date_string = file_kak_stroka.splitlines()[0]\n",
    "    parsed_date = dateparser.parse (date_string)\n",
    "    parsed_date_string = str(parsed_date)\n",
    "    parsed_date_no_time = re.sub (' 00:00:00','', parsed_date_string)\n",
    "    return (parsed_date_no_time)\n",
    "    #print (parsed_date)\n",
    "    #print (str(parsed_date))\n",
    "    #print (type(parsed_date))"
   ]
  },
  {
   "cell_type": "code",
   "execution_count": 33,
   "metadata": {},
   "outputs": [],
   "source": [
    "def write_file_with_date_name (datestring, file_kak_stroka, filename,put_nov_papka): \n",
    "    newname = datestring + '_' + filename\n",
    "    with open (joinpath (put_nov_papka,newname), 'w') as outfile:\n",
    "        outfile.write (file_kak_stroka)\n",
    "    "
   ]
  },
  {
   "cell_type": "code",
   "execution_count": 34,
   "metadata": {},
   "outputs": [],
   "source": [
    "def rename_files(put_k_faylam, put_nov_papka):\n",
    "    for path, dirs, filenames in walk (put_k_faylam):\n",
    "        #filenames.sort() ## чтобы открывались потом в хронологическом порядке, отсортируем по названию\n",
    "        for filename in filenames:\n",
    "            if filename.endswith('.txt'): ## бывают еще всякие плохо видимые служебные файлы\n",
    "                file_kak_file = open(joinpath(path, filename), 'r')\n",
    "                file_kak_stroka = file_kak_file.read()\n",
    "                datestring = get_date (file_kak_stroka)\n",
    "                file_kak_file.close()\n",
    "                write_file_with_date_name (datestring, file_kak_stroka,filename,put_nov_papka)"
   ]
  },
  {
   "cell_type": "code",
   "execution_count": 35,
   "metadata": {},
   "outputs": [],
   "source": [
    "rename_files ('lemmatized_duma', 'renamed_lemmatized_duma')"
   ]
  },
  {
   "cell_type": "code",
   "execution_count": null,
   "metadata": {},
   "outputs": [],
   "source": []
  }
 ],
 "metadata": {
  "kernelspec": {
   "display_name": "Python 3",
   "language": "python",
   "name": "python3"
  },
  "language_info": {
   "codemirror_mode": {
    "name": "ipython",
    "version": 3
   },
   "file_extension": ".py",
   "mimetype": "text/x-python",
   "name": "python",
   "nbconvert_exporter": "python",
   "pygments_lexer": "ipython3",
   "version": "3.6.5"
  }
 },
 "nbformat": 4,
 "nbformat_minor": 2
}

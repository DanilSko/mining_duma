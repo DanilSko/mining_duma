{
 "cells": [
  {
   "cell_type": "code",
   "execution_count": 45,
   "metadata": {},
   "outputs": [],
   "source": [
    "import re\n",
    "import dateparser\n",
    "from os import walk\n",
    "from os.path import join as joinpath\n",
    "import matplotlib.pyplot as plt\n",
    "from nltk.tokenize import word_tokenize\n",
    "import matplotlib.dates as mdates"
   ]
  },
  {
   "cell_type": "code",
   "execution_count": 46,
   "metadata": {},
   "outputs": [],
   "source": [
    "def get_date (imyafayla):\n",
    "    thisfiledate = re.match ('(\\d{4}-\\d\\d-\\d\\d)', imyafayla).group(1)\n",
    "    return dateparser.parse(thisfiledate)\n",
    "\n",
    "    #date_string = file_kak_stroka.splitlines()[0]\n",
    "    #parsed_date = dateparser.parse (date_string)\n",
    "    #print (parsed_date)\n",
    "    #print (type(parsed_date))"
   ]
  },
  {
   "cell_type": "code",
   "execution_count": 77,
   "metadata": {},
   "outputs": [],
   "source": [
    "def plotter (vse_chastotnisti, daty):\n",
    "    x_values = daty\n",
    "    #print (x_values)\n",
    "    y_values = vse_chastotnisti\n",
    "    #print (y_values)\n",
    "    ax = plt.gca()\n",
    "    formatter = mdates.DateFormatter(\"%Y\")# %Y-%m-%d\n",
    "    ax.xaxis.set_major_formatter(formatter)\n",
    "    locator = mdates.YearLocator()\n",
    "    ax.xaxis.set_major_locator(locator)\n",
    "    plt.xtics(rotation=45)\n",
    "    plt.plot(x_values, y_values)"
   ]
  },
  {
   "cell_type": "code",
   "execution_count": 70,
   "metadata": {},
   "outputs": [],
   "source": [
    "def advanced_plotter (vse_chastotnisti, daty):\n",
    "    fig, ax = plt.subplots()\n",
    "    ax.plot(vse_chastotnisti)\n",
    "    \n",
    "    years = mdates.YearLocator()   # every year\n",
    "    months = mdates.MonthLocator()  # every month\n",
    "    years_fmt = mdates.DateFormatter('%Y')\n",
    "    \n",
    "    ax.xaxis.set_major_locator(years)\n",
    "    ax.xaxis.set_major_formatter(years_fmt)\n",
    "    ax.xaxis.set_minor_locator(months)\n",
    "\n",
    "    ax.format_xdata = mdates.DateFormatter('%Y-%m-%d')\n",
    "    #ax.set_xticklabels(locator)\n",
    "    fig.autofmt_xdate()\n",
    "    #ax.xticks(rotation=30)\n",
    "    plt.show()\n",
    "  "
   ]
  },
  {
   "cell_type": "code",
   "execution_count": null,
   "metadata": {},
   "outputs": [],
   "source": [
    "def trash()  \n",
    "    x_values = daty\n",
    "    #print (x_values)\n",
    "    y_values = vse_chastotnisti\n",
    "    #print (y_values)\n",
    "    ax = plt.gca()\n",
    "    formatter = mdates.DateFormatter(\"%Y\")\n",
    "    ax.xaxis.set_major_formatter(formatter)\n",
    "    locator = mdates.YearLocator()\n",
    "    ax.xaxis.set_major_locator(locator)\n",
    "    \n",
    "    \n",
    "\n",
    "    # format the ticks\n",
    "    ax.xaxis.set_major_locator(years)\n",
    "    ax.xaxis.set_major_formatter(years_fmt)\n",
    "    ax.xaxis.set_minor_locator(months)\n",
    "\n",
    "    # round to nearest years.\n",
    "    datemin = np.datetime64(data['date'][0], 'Y')\n",
    "    datemax = np.datetime64(data['date'][-1], 'Y') + np.timedelta64(1, 'Y')\n",
    "    ax.set_xlim(datemin, datemax)\n",
    "\n",
    "    # format the coords message box\n",
    "    ax.format_xdata = mdates.DateFormatter('%Y-%m-%d')\n",
    "    ax.format_ydata = lambda x: '$%1.2f' % x  # format the price.\n",
    "    ax.grid(True)\n",
    "\n",
    "    # rotates and right aligns the x labels, and moves the bottom of the\n",
    "    # axes up to make room for them\n",
    "    fig.autofmt_xdate()\n",
    "\n",
    "    plt.show()"
   ]
  },
  {
   "cell_type": "code",
   "execution_count": 82,
   "metadata": {},
   "outputs": [],
   "source": [
    " ## будем считать упоминания слова в каждом тексте и делить на объем текста\n",
    "def schitaem_chastotnosti_fulltext (iskomoe_slovo, put_k_faylam):\n",
    "    vse_chastotnisti = []\n",
    "    daty = []\n",
    "    counter = 0 \n",
    "    for path, dirs, filenames in walk (put_k_faylam):\n",
    "        filenames.sort() ## чтобы открывались потом в хронологическом порядке, отсортируем по названию\n",
    "        for filename in filenames:\n",
    "            counter +=1\n",
    "            if filename.endswith('.txt'): ## бывают еще всякие плохо видимые служебные файлы\n",
    "                with open (joinpath(path, filename), 'r') as thisfile:\n",
    "                    file_kak_stroka = thisfile.read()\n",
    "                    date = get_date (filename)\n",
    "                    daty.append (date)\n",
    "                    tokenized_file = word_tokenize(file_kak_stroka)\n",
    "                    chastota =  tokenized_file.count(iskomoe_slovo) ## у питоновских списков есть метод count, который позволяет посчитать число элементов\n",
    "                    otn_chastota = chastota/len (tokenized_file)\n",
    "                    vse_chastotnisti.append(otn_chastota)\n",
    "            if counter % 100 == 0: \n",
    "                print (counter)\n",
    "    \n",
    "    advanced_plotter (vse_chastotnisti, daty)\n",
    "   # plt.plot (vse_chastotnisti)\n",
    "    #return (vse_chastotnisti)"
   ]
  },
  {
   "cell_type": "code",
   "execution_count": 83,
   "metadata": {},
   "outputs": [
    {
     "data": {
      "image/png": "[encoded data removed]",
      "text/plain": [
       "<Figure size 432x288 with 1 Axes>"
      ]
     },
     "metadata": {},
     "output_type": "display_data"
    }
   ],
   "source": [
    "schitaem_chastotnosti_fulltext ('крым','rld_test') #'renamed_lemmatized_duma')"
   ]
  },
  {
   "cell_type": "code",
   "execution_count": null,
   "metadata": {},
   "outputs": [],
   "source": []
  }
 ],
 "metadata": {
  "kernelspec": {
   "display_name": "Python 3",
   "language": "python",
   "name": "python3"
  },
  "language_info": {
   "codemirror_mode": {
    "name": "ipython",
    "version": 3
   },
   "file_extension": ".py",
   "mimetype": "text/x-python",
   "name": "python",
   "nbconvert_exporter": "python",
   "pygments_lexer": "ipython3",
   "version": "3.6.5"
  }
 },
 "nbformat": 4,
 "nbformat_minor": 2
}
